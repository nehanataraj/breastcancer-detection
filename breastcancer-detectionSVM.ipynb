{
  "nbformat": 4,
  "nbformat_minor": 0,
  "metadata": {
    "colab": {
      "provenance": [],
      "authorship_tag": "ABX9TyPuCJMyd4i+PiYct/EMLgLu",
      "include_colab_link": true
    },
    "kernelspec": {
      "name": "python3",
      "display_name": "Python 3"
    },
    "language_info": {
      "name": "python"
    }
  },
  "cells": [
    {
      "cell_type": "markdown",
      "metadata": {
        "id": "view-in-github",
        "colab_type": "text"
      },
      "source": [
        "<a href=\"https://colab.research.google.com/github/nehanataraj/breastcancer-detection/blob/main/breastcancer-detectionSVM.ipynb\" target=\"_parent\"><img src=\"https://colab.research.google.com/assets/colab-badge.svg\" alt=\"Open In Colab\"/></a>"
      ]
    },
    {
      "cell_type": "code",
      "execution_count": null,
      "metadata": {
        "id": "DBGxQlr1UiVg"
      },
      "outputs": [],
      "source": [
        "# Library imports\n",
        "import os\n",
        "import cv2\n",
        "import numpy as np\n",
        "import random\n",
        "import zipfile\n",
        "from google.colab import files\n",
        "from sklearn.model_selection import train_test_split\n",
        "from sklearn.svm import SVC\n",
        "from sklearn.metrics import accuracy_score\n",
        "from tensorflow.keras.preprocessing.image import ImageDataGenerator\n",
        "import seaborn as sns\n",
        "import matplotlib.pyplot as plt\n",
        "import pandas as pd\n",
        "\n",
        "# File uploads; files are stored within subfolders labeled \"Male\" and \"Female\"\n",
        "uploaded = files.upload()\n",
        "for fname in uploaded.keys():\n",
        "    with zipfile.ZipFile(fname, 'r') as zip_ref:\n",
        "        zip_ref.extractall(\"/content\")\n",
        "\n",
        "base_dir = \"/content/breastcancerdata\"\n",
        "mbc_dir = os.path.join(base_dir, \"Male\")\n",
        "fbc_dir = os.path.join(base_dir, \"Female\")\n",
        "\n",
        "# Load MBC mammograms\n",
        "def load_mbc_images(folder, target_size=(128, 128)):\n",
        "    images, labels = [], []\n",
        "    for fname in os.listdir(folder):\n",
        "        if fname.lower().endswith(('.jpg', '.jpeg', '.png', '.bmp')):\n",
        "            label = 0 if fname.lower().startswith(\"benign\") else 1\n",
        "            img_path = os.path.join(folder, fname)\n",
        "            img = cv2.imread(img_path, cv2.IMREAD_GRAYSCALE)\n",
        "            if img is not None:\n",
        "                img = cv2.resize(img, target_size)\n",
        "                images.append(img)\n",
        "                labels.append(label)\n",
        "    return np.array(images), np.array(labels)\n",
        "\n",
        "X_mbc_orig, y_mbc_orig = load_mbc_images(mbc_dir)\n",
        "print(f\"Loaded {len(X_mbc_orig)} male images\")\n",
        "\n",
        "# Augmenting MBC mammograms to 50 images\n",
        "data_gen = ImageDataGenerator(rotation_range=30, horizontal_flip=True, brightness_range=[0.8, 1.2])\n",
        "X_mbc_augmented = list(X_mbc_orig)\n",
        "y_mbc_augmented = list(y_mbc_orig)\n",
        "i = 0\n",
        "while len(X_mbc_augmented) < 50:\n",
        "    img = X_mbc_orig[i % len(X_mbc_orig)].reshape((1, 128, 128, 1))\n",
        "    label = y_mbc_orig[i % len(y_mbc_orig)]\n",
        "    aug_img = next(data_gen.flow(img, batch_size=1))[0].reshape(128, 128)\n",
        "    X_mbc_augmented.append(aug_img)\n",
        "    y_mbc_augmented.append(label)\n",
        "    i += 1\n",
        "\n",
        "X_mbc = np.array(X_mbc_augmented)\n",
        "y_mbc = np.array(y_mbc_augmented)\n",
        "\n",
        "# Load 50 images from each \"Female\" subfolder\n",
        "def load_fbc_subset(folder, max_per_class=50, target_size=(128, 128)):\n",
        "    images, labels = [], []\n",
        "    for subfolder in sorted(os.listdir(folder)):\n",
        "        path = os.path.join(folder, subfolder)\n",
        "        if os.path.isdir(path):\n",
        "            class_images = []\n",
        "            for fname in os.listdir(path):\n",
        "                if fname.lower().endswith(('.jpg', '.jpeg', '.png', '.bmp')):\n",
        "                    img_path = os.path.join(path, fname)\n",
        "                    img = cv2.imread(img_path, cv2.IMREAD_GRAYSCALE)\n",
        "                    if img is not None:\n",
        "                        img = cv2.resize(img, target_size)\n",
        "                        class_images.append(img)\n",
        "            label = 0 if 'Benign' in subfolder else 1\n",
        "            selected = random.sample(class_images, min(max_per_class, len(class_images)))\n",
        "            images.extend(selected)\n",
        "            labels.extend([label] * len(selected))\n",
        "    return np.array(images), np.array(labels)\n",
        "\n",
        "X_fbc, y_fbc = load_fbc_subset(fbc_dir)\n",
        "print(f\"Loaded {len(X_fbc)} female images across 8 subfolders\")\n",
        "\n",
        "# Define ratios for testing\n",
        "ratios = {\n",
        "    \"FBC Only\": (0, 400),\n",
        "    \"1:41\": (10, 410),\n",
        "    \"1:21\": (20, 420),\n",
        "    \"3:43\": (30, 430),\n",
        "    \"1:11\": (40, 440),\n",
        "    \"1:9\":  (50, 450),\n",
        "}\n",
        "\n",
        "results = []\n",
        "\n",
        "# Run SVM on each ratio\n",
        "for label, (num_mbc, total) in ratios.items():\n",
        "    if num_mbc == 0:\n",
        "        X_total = X_fbc\n",
        "        y_total = y_fbc\n",
        "    else:\n",
        "        X_mbc_subset, y_mbc_subset = X_mbc[:num_mbc], y_mbc[:num_mbc]\n",
        "        X_fbc_subset, y_fbc_subset = X_fbc[:total - num_mbc], y_fbc[:total - num_mbc]\n",
        "        X_total = np.vstack((X_mbc_subset, X_fbc_subset))\n",
        "        y_total = np.hstack((y_mbc_subset, y_fbc_subset))\n",
        "\n",
        "    # Shuffle and normalize\n",
        "    idx = np.random.permutation(len(X_total))\n",
        "    X_total, y_total = X_total[idx], y_total[idx]\n",
        "    X_total = X_total / 255.0\n",
        "    X_total_flat = X_total.reshape(len(X_total), -1)\n",
        "\n",
        "    # 70-20-10 split\n",
        "    X_temp, X_val, y_temp, y_val = train_test_split(X_total_flat, y_total, test_size=0.1, random_state=42)\n",
        "    X_train, X_test, y_train, y_test = train_test_split(X_temp, y_temp, test_size=2/9, random_state=42)\n",
        "\n",
        "    clf = SVC(kernel='linear')\n",
        "    clf.fit(X_train, y_train)\n",
        "\n",
        "    y_pred_val = clf.predict(X_val)\n",
        "\n",
        "    # Accuracy calculations\n",
        "    overall_acc = accuracy_score(y_val, y_pred_val)\n",
        "\n",
        "    if num_mbc > 0:\n",
        "        mbc_mask = y_val[:len(y_val)] == 1  # Malignant is 1 (MBC or malignant FBC)\n",
        "        mbc_val_true = y_val[mbc_mask]\n",
        "        mbc_val_pred = y_pred_val[mbc_mask]\n",
        "        mbc_acc = accuracy_score(mbc_val_true, mbc_val_pred) if len(mbc_val_true) > 0 else None\n",
        "\n",
        "        fbc_mask = y_val[:len(y_val)] == 0\n",
        "        fbc_val_true = y_val[fbc_mask]\n",
        "        fbc_val_pred = y_pred_val[fbc_mask]\n",
        "        fbc_acc = accuracy_score(fbc_val_true, fbc_val_pred) if len(fbc_val_true) > 0 else None\n",
        "    else:\n",
        "        mbc_acc = None\n",
        "        fbc_acc = accuracy_score(y_val, y_pred_val)\n",
        "\n",
        "    results.append({\n",
        "        \"Ratio\": label,\n",
        "        \"MBC Accuracy\": mbc_acc if mbc_acc is not None else \"N/A\",\n",
        "        \"FBC Accuracy\": fbc_acc if fbc_acc is not None else \"N/A\",\n",
        "        \"Overall Accuracy\": overall_acc\n",
        "    })\n",
        "\n",
        "# Return the final output as Table (Figure 2)\n",
        "df = pd.DataFrame(results)\n",
        "print(df)\n"
      ]
    },
    {
      "cell_type": "code",
      "source": [],
      "metadata": {
        "id": "r4030CYn1AoM"
      },
      "execution_count": null,
      "outputs": []
    },
    {
      "cell_type": "code",
      "source": [
        "from google.colab import drive\n",
        "drive.mount('/content/drive')\n"
      ],
      "metadata": {
        "id": "dCptRiG-1S6u",
        "colab": {
          "base_uri": "https://localhost:8080/",
          "height": 314
        },
        "outputId": "684d58c7-9935-4ae9-cb6d-1ac25b313d0b"
      },
      "execution_count": null,
      "outputs": [
        {
          "output_type": "error",
          "ename": "MessageError",
          "evalue": "Error: credential propagation was unsuccessful",
          "traceback": [
            "\u001b[0;31m---------------------------------------------------------------------------\u001b[0m",
            "\u001b[0;31mMessageError\u001b[0m                              Traceback (most recent call last)",
            "\u001b[0;32m<ipython-input-11-d5df0069828e>\u001b[0m in \u001b[0;36m<cell line: 0>\u001b[0;34m()\u001b[0m\n\u001b[1;32m      1\u001b[0m \u001b[0;32mfrom\u001b[0m \u001b[0mgoogle\u001b[0m\u001b[0;34m.\u001b[0m\u001b[0mcolab\u001b[0m \u001b[0;32mimport\u001b[0m \u001b[0mdrive\u001b[0m\u001b[0;34m\u001b[0m\u001b[0;34m\u001b[0m\u001b[0m\n\u001b[0;32m----> 2\u001b[0;31m \u001b[0mdrive\u001b[0m\u001b[0;34m.\u001b[0m\u001b[0mmount\u001b[0m\u001b[0;34m(\u001b[0m\u001b[0;34m'/content/drive'\u001b[0m\u001b[0;34m)\u001b[0m\u001b[0;34m\u001b[0m\u001b[0;34m\u001b[0m\u001b[0m\n\u001b[0m",
            "\u001b[0;32m/usr/local/lib/python3.11/dist-packages/google/colab/drive.py\u001b[0m in \u001b[0;36mmount\u001b[0;34m(mountpoint, force_remount, timeout_ms, readonly)\u001b[0m\n\u001b[1;32m     98\u001b[0m \u001b[0;32mdef\u001b[0m \u001b[0mmount\u001b[0m\u001b[0;34m(\u001b[0m\u001b[0mmountpoint\u001b[0m\u001b[0;34m,\u001b[0m \u001b[0mforce_remount\u001b[0m\u001b[0;34m=\u001b[0m\u001b[0;32mFalse\u001b[0m\u001b[0;34m,\u001b[0m \u001b[0mtimeout_ms\u001b[0m\u001b[0;34m=\u001b[0m\u001b[0;36m120000\u001b[0m\u001b[0;34m,\u001b[0m \u001b[0mreadonly\u001b[0m\u001b[0;34m=\u001b[0m\u001b[0;32mFalse\u001b[0m\u001b[0;34m)\u001b[0m\u001b[0;34m:\u001b[0m\u001b[0;34m\u001b[0m\u001b[0;34m\u001b[0m\u001b[0m\n\u001b[1;32m     99\u001b[0m   \u001b[0;34m\"\"\"Mount your Google Drive at the specified mountpoint path.\"\"\"\u001b[0m\u001b[0;34m\u001b[0m\u001b[0;34m\u001b[0m\u001b[0m\n\u001b[0;32m--> 100\u001b[0;31m   return _mount(\n\u001b[0m\u001b[1;32m    101\u001b[0m       \u001b[0mmountpoint\u001b[0m\u001b[0;34m,\u001b[0m\u001b[0;34m\u001b[0m\u001b[0;34m\u001b[0m\u001b[0m\n\u001b[1;32m    102\u001b[0m       \u001b[0mforce_remount\u001b[0m\u001b[0;34m=\u001b[0m\u001b[0mforce_remount\u001b[0m\u001b[0;34m,\u001b[0m\u001b[0;34m\u001b[0m\u001b[0;34m\u001b[0m\u001b[0m\n",
            "\u001b[0;32m/usr/local/lib/python3.11/dist-packages/google/colab/drive.py\u001b[0m in \u001b[0;36m_mount\u001b[0;34m(mountpoint, force_remount, timeout_ms, ephemeral, readonly)\u001b[0m\n\u001b[1;32m    135\u001b[0m   )\n\u001b[1;32m    136\u001b[0m   \u001b[0;32mif\u001b[0m \u001b[0mephemeral\u001b[0m\u001b[0;34m:\u001b[0m\u001b[0;34m\u001b[0m\u001b[0;34m\u001b[0m\u001b[0m\n\u001b[0;32m--> 137\u001b[0;31m     _message.blocking_request(\n\u001b[0m\u001b[1;32m    138\u001b[0m         \u001b[0;34m'request_auth'\u001b[0m\u001b[0;34m,\u001b[0m\u001b[0;34m\u001b[0m\u001b[0;34m\u001b[0m\u001b[0m\n\u001b[1;32m    139\u001b[0m         \u001b[0mrequest\u001b[0m\u001b[0;34m=\u001b[0m\u001b[0;34m{\u001b[0m\u001b[0;34m'authType'\u001b[0m\u001b[0;34m:\u001b[0m \u001b[0;34m'dfs_ephemeral'\u001b[0m\u001b[0;34m}\u001b[0m\u001b[0;34m,\u001b[0m\u001b[0;34m\u001b[0m\u001b[0;34m\u001b[0m\u001b[0m\n",
            "\u001b[0;32m/usr/local/lib/python3.11/dist-packages/google/colab/_message.py\u001b[0m in \u001b[0;36mblocking_request\u001b[0;34m(request_type, request, timeout_sec, parent)\u001b[0m\n\u001b[1;32m    174\u001b[0m       \u001b[0mrequest_type\u001b[0m\u001b[0;34m,\u001b[0m \u001b[0mrequest\u001b[0m\u001b[0;34m,\u001b[0m \u001b[0mparent\u001b[0m\u001b[0;34m=\u001b[0m\u001b[0mparent\u001b[0m\u001b[0;34m,\u001b[0m \u001b[0mexpect_reply\u001b[0m\u001b[0;34m=\u001b[0m\u001b[0;32mTrue\u001b[0m\u001b[0;34m\u001b[0m\u001b[0;34m\u001b[0m\u001b[0m\n\u001b[1;32m    175\u001b[0m   )\n\u001b[0;32m--> 176\u001b[0;31m   \u001b[0;32mreturn\u001b[0m \u001b[0mread_reply_from_input\u001b[0m\u001b[0;34m(\u001b[0m\u001b[0mrequest_id\u001b[0m\u001b[0;34m,\u001b[0m \u001b[0mtimeout_sec\u001b[0m\u001b[0;34m)\u001b[0m\u001b[0;34m\u001b[0m\u001b[0;34m\u001b[0m\u001b[0m\n\u001b[0m",
            "\u001b[0;32m/usr/local/lib/python3.11/dist-packages/google/colab/_message.py\u001b[0m in \u001b[0;36mread_reply_from_input\u001b[0;34m(message_id, timeout_sec)\u001b[0m\n\u001b[1;32m    101\u001b[0m     ):\n\u001b[1;32m    102\u001b[0m       \u001b[0;32mif\u001b[0m \u001b[0;34m'error'\u001b[0m \u001b[0;32min\u001b[0m \u001b[0mreply\u001b[0m\u001b[0;34m:\u001b[0m\u001b[0;34m\u001b[0m\u001b[0;34m\u001b[0m\u001b[0m\n\u001b[0;32m--> 103\u001b[0;31m         \u001b[0;32mraise\u001b[0m \u001b[0mMessageError\u001b[0m\u001b[0;34m(\u001b[0m\u001b[0mreply\u001b[0m\u001b[0;34m[\u001b[0m\u001b[0;34m'error'\u001b[0m\u001b[0;34m]\u001b[0m\u001b[0;34m)\u001b[0m\u001b[0;34m\u001b[0m\u001b[0;34m\u001b[0m\u001b[0m\n\u001b[0m\u001b[1;32m    104\u001b[0m       \u001b[0;32mreturn\u001b[0m \u001b[0mreply\u001b[0m\u001b[0;34m.\u001b[0m\u001b[0mget\u001b[0m\u001b[0;34m(\u001b[0m\u001b[0;34m'data'\u001b[0m\u001b[0;34m,\u001b[0m \u001b[0;32mNone\u001b[0m\u001b[0;34m)\u001b[0m\u001b[0;34m\u001b[0m\u001b[0;34m\u001b[0m\u001b[0m\n\u001b[1;32m    105\u001b[0m \u001b[0;34m\u001b[0m\u001b[0m\n",
            "\u001b[0;31mMessageError\u001b[0m: Error: credential propagation was unsuccessful"
          ]
        }
      ]
    },
    {
      "cell_type": "code",
      "source": [],
      "metadata": {
        "id": "nIj0ScFxyft_"
      },
      "execution_count": null,
      "outputs": []
    }
  ]
}